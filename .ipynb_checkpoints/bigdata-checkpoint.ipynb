{
 "cells": [
  {
   "cell_type": "code",
   "execution_count": 1,
   "metadata": {},
   "outputs": [
    {
     "name": "stderr",
     "output_type": "stream",
     "text": [
      "/opt/conda/lib/python3.7/site-packages/IPython/core/interactiveshell.py:3063: DtypeWarning: Columns (9,10) have mixed types.Specify dtype option on import or set low_memory=False.\n",
      "  interactivity=interactivity, compiler=compiler, result=result)\n"
     ]
    }
   ],
   "source": [
    "#Gabriel Montoya Rico & Arnovis Buendia de Avila\n",
    "#https://github.com/Gaanmori/BigDataT1.git\n",
    "import pandas as pd\n",
    "import os\n",
    "import numpy as np\n",
    "import matplotlib.pyplot as plt\n",
    "\n",
    "ubicacion= \"/kaggle/input/spanish-high-speed-rail-system-ticket-pricing/high_speed_spanish_trains.csv\"\n",
    "datos= pd.read_csv(ubicacion)"
   ]
  },
  {
   "cell_type": "markdown",
   "metadata": {},
   "source": [
    "# Top 5\n",
    "En la siguiente tabla contamos con 12 columnas en las cuales se muestra el top 5 de sus datos más demandados. Se puede apreciar que hay más papularidad y demanda en viajes desde Madrid hasta Barcelona, que el tipo de tren más usado es \"AVE\", la clase más preferida es \"Preferente\", seguida de \"Turista\" y \"Turista Plus\"."
   ]
  },
  {
   "cell_type": "code",
   "execution_count": 2,
   "metadata": {},
   "outputs": [
    {
     "data": {
      "text/html": [
       "<div>\n",
       "<style scoped>\n",
       "    .dataframe tbody tr th:only-of-type {\n",
       "        vertical-align: middle;\n",
       "    }\n",
       "\n",
       "    .dataframe tbody tr th {\n",
       "        vertical-align: top;\n",
       "    }\n",
       "\n",
       "    .dataframe thead th {\n",
       "        text-align: right;\n",
       "    }\n",
       "</style>\n",
       "<table border=\"1\" class=\"dataframe\">\n",
       "  <thead>\n",
       "    <tr style=\"text-align: right;\">\n",
       "      <th></th>\n",
       "      <th>insert_date</th>\n",
       "      <th>origin</th>\n",
       "      <th>destination</th>\n",
       "      <th>start_date</th>\n",
       "      <th>end_date</th>\n",
       "      <th>train_type</th>\n",
       "      <th>price</th>\n",
       "      <th>train_class</th>\n",
       "      <th>fare</th>\n",
       "      <th>price_tree</th>\n",
       "      <th>batch</th>\n",
       "      <th>id</th>\n",
       "    </tr>\n",
       "  </thead>\n",
       "  <tbody>\n",
       "    <tr>\n",
       "      <th>0</th>\n",
       "      <td>2019-04-11 21:49:46</td>\n",
       "      <td>MADRID</td>\n",
       "      <td>BARCELONA</td>\n",
       "      <td>2019-04-18 05:50:00</td>\n",
       "      <td>2019-04-18 08:55:00</td>\n",
       "      <td>AVE</td>\n",
       "      <td>68.95</td>\n",
       "      <td>Preferente</td>\n",
       "      <td>Promo</td>\n",
       "      <td>NaN</td>\n",
       "      <td>NaN</td>\n",
       "      <td>NaN</td>\n",
       "    </tr>\n",
       "    <tr>\n",
       "      <th>1</th>\n",
       "      <td>2019-04-11 21:49:46</td>\n",
       "      <td>MADRID</td>\n",
       "      <td>BARCELONA</td>\n",
       "      <td>2019-04-18 06:30:00</td>\n",
       "      <td>2019-04-18 09:20:00</td>\n",
       "      <td>AVE</td>\n",
       "      <td>75.40</td>\n",
       "      <td>Turista</td>\n",
       "      <td>Promo</td>\n",
       "      <td>NaN</td>\n",
       "      <td>NaN</td>\n",
       "      <td>NaN</td>\n",
       "    </tr>\n",
       "    <tr>\n",
       "      <th>2</th>\n",
       "      <td>2019-04-11 21:49:46</td>\n",
       "      <td>MADRID</td>\n",
       "      <td>BARCELONA</td>\n",
       "      <td>2019-04-18 07:00:00</td>\n",
       "      <td>2019-04-18 09:30:00</td>\n",
       "      <td>AVE</td>\n",
       "      <td>106.75</td>\n",
       "      <td>Turista Plus</td>\n",
       "      <td>Promo</td>\n",
       "      <td>NaN</td>\n",
       "      <td>NaN</td>\n",
       "      <td>NaN</td>\n",
       "    </tr>\n",
       "    <tr>\n",
       "      <th>3</th>\n",
       "      <td>2019-04-11 21:49:46</td>\n",
       "      <td>MADRID</td>\n",
       "      <td>BARCELONA</td>\n",
       "      <td>2019-04-18 07:30:00</td>\n",
       "      <td>2019-04-18 10:40:00</td>\n",
       "      <td>AVE</td>\n",
       "      <td>90.50</td>\n",
       "      <td>Turista Plus</td>\n",
       "      <td>Promo</td>\n",
       "      <td>NaN</td>\n",
       "      <td>NaN</td>\n",
       "      <td>NaN</td>\n",
       "    </tr>\n",
       "    <tr>\n",
       "      <th>4</th>\n",
       "      <td>2019-04-11 21:49:46</td>\n",
       "      <td>MADRID</td>\n",
       "      <td>BARCELONA</td>\n",
       "      <td>2019-04-18 08:00:00</td>\n",
       "      <td>2019-04-18 10:30:00</td>\n",
       "      <td>AVE</td>\n",
       "      <td>88.95</td>\n",
       "      <td>Turista</td>\n",
       "      <td>Promo</td>\n",
       "      <td>NaN</td>\n",
       "      <td>NaN</td>\n",
       "      <td>NaN</td>\n",
       "    </tr>\n",
       "  </tbody>\n",
       "</table>\n",
       "</div>"
      ],
      "text/plain": [
       "           insert_date  origin destination           start_date  \\\n",
       "0  2019-04-11 21:49:46  MADRID   BARCELONA  2019-04-18 05:50:00   \n",
       "1  2019-04-11 21:49:46  MADRID   BARCELONA  2019-04-18 06:30:00   \n",
       "2  2019-04-11 21:49:46  MADRID   BARCELONA  2019-04-18 07:00:00   \n",
       "3  2019-04-11 21:49:46  MADRID   BARCELONA  2019-04-18 07:30:00   \n",
       "4  2019-04-11 21:49:46  MADRID   BARCELONA  2019-04-18 08:00:00   \n",
       "\n",
       "              end_date train_type   price   train_class   fare price_tree  \\\n",
       "0  2019-04-18 08:55:00        AVE   68.95    Preferente  Promo        NaN   \n",
       "1  2019-04-18 09:20:00        AVE   75.40       Turista  Promo        NaN   \n",
       "2  2019-04-18 09:30:00        AVE  106.75  Turista Plus  Promo        NaN   \n",
       "3  2019-04-18 10:40:00        AVE   90.50  Turista Plus  Promo        NaN   \n",
       "4  2019-04-18 10:30:00        AVE   88.95       Turista  Promo        NaN   \n",
       "\n",
       "  batch  id  \n",
       "0   NaN NaN  \n",
       "1   NaN NaN  \n",
       "2   NaN NaN  \n",
       "3   NaN NaN  \n",
       "4   NaN NaN  "
      ]
     },
     "execution_count": 2,
     "metadata": {},
     "output_type": "execute_result"
    }
   ],
   "source": [
    "datos.head()"
   ]
  },
  {
   "cell_type": "markdown",
   "metadata": {},
   "source": [
    "# Informacion de los datos\n",
    "Aca podemos observar que hay 12 datos, de los cuales 2 son float64 y 10 son object, podemos ver el nombre que identifica a cada uno y tambien podemos ver el uso de la memoria."
   ]
  },
  {
   "cell_type": "code",
   "execution_count": 3,
   "metadata": {},
   "outputs": [
    {
     "name": "stdout",
     "output_type": "stream",
     "text": [
      "<class 'pandas.core.frame.DataFrame'>\n",
      "RangeIndex: 27093511 entries, 0 to 27093510\n",
      "Data columns (total 12 columns):\n",
      " #   Column       Dtype  \n",
      "---  ------       -----  \n",
      " 0   insert_date  object \n",
      " 1   origin       object \n",
      " 2   destination  object \n",
      " 3   start_date   object \n",
      " 4   end_date     object \n",
      " 5   train_type   object \n",
      " 6   price        float64\n",
      " 7   train_class  object \n",
      " 8   fare         object \n",
      " 9   price_tree   object \n",
      " 10  batch        object \n",
      " 11  id           float64\n",
      "dtypes: float64(2), object(10)\n",
      "memory usage: 2.4+ GB\n"
     ]
    }
   ],
   "source": [
    "datos.info()"
   ]
  },
  {
   "cell_type": "markdown",
   "metadata": {},
   "source": [
    "# Datos de origen\n",
    "Tenemos 2 colummnas, la primera con las 5 ciudades con más demanda en cuanto a viajes por tren como ciudad de origen y en la segunda columna tenemos la cantidad de viajes que se hicieron dichas ciudades."
   ]
  },
  {
   "cell_type": "code",
   "execution_count": 4,
   "metadata": {},
   "outputs": [
    {
     "data": {
      "text/plain": [
       "MADRID       13456946\n",
       "BARCELONA     2730448\n",
       "SEVILLA       2204183\n",
       "VALENCIA      1984645\n",
       "CORDOBA       1192120\n",
       "Name: origin, dtype: int64"
      ]
     },
     "execution_count": 4,
     "metadata": {},
     "output_type": "execute_result"
    }
   ],
   "source": [
    "ori= datos[\"origin\"].value_counts()\n",
    "ori.head()"
   ]
  },
  {
   "cell_type": "markdown",
   "metadata": {},
   "source": [
    "# Diagrama de barra - datos de origen\n",
    "Acá se puede ver en un diagrama de barras todas las ciudades que tuvieron viajes como puntos de origen, se evidencia graficamente que Madrid fue la ciudad de origen con mayor demanda de viajes, seguida de Barcelona y la que tuvo menor demanda fue Huesca"
   ]
  },
  {
   "cell_type": "code",
   "execution_count": 5,
   "metadata": {},
   "outputs": [
    {
     "data": {
      "text/plain": [
       "Text(0, 0.5, 'Demand')"
      ]
     },
     "execution_count": 5,
     "metadata": {},
     "output_type": "execute_result"
    },
    {
     "data": {
      "image/png": "[encoded data removed]",
      "text/plain": [
       "<Figure size 864x576 with 1 Axes>"
      ]
     },
     "metadata": {
      "needs_background": "light"
     },
     "output_type": "display_data"
    }
   ],
   "source": [
    "ori.plot(kind='bar', title= \"Origin City\", figsize=(12,8), logy=True)\n",
    "plt.ylabel(\"Demand\")"
   ]
  },
  {
   "cell_type": "markdown",
   "metadata": {},
   "source": [
    "# Datos de destino\n",
    "Tenemos 2 colummnas, la primera con las 5 ciudades con más demanda en cuanto a viajes por tren como ciudad de destino y en la segunda columna tenemos la cantidad de viajes que se hicieron en dichas ciudades."
   ]
  },
  {
   "cell_type": "code",
   "execution_count": 6,
   "metadata": {},
   "outputs": [
    {
     "data": {
      "text/plain": [
       "MADRID       13636565\n",
       "BARCELONA     2855740\n",
       "SEVILLA       2200973\n",
       "VALENCIA      2061072\n",
       "CORDOBA       1149965\n",
       "Name: destination, dtype: int64"
      ]
     },
     "execution_count": 6,
     "metadata": {},
     "output_type": "execute_result"
    }
   ],
   "source": [
    "destiny= datos[\"destination\"].value_counts()\n",
    "destiny.head()"
   ]
  },
  {
   "cell_type": "markdown",
   "metadata": {},
   "source": [
    "# Diagrama de barra - datos de destino\n",
    "Acá se puede ver en un diagrama de barras todas las ciudades que tuvieron viajes como puntos de destino, se evidencia graficamente que Madrid fue la ciudad de destino con mayor demanda de viajes, seguida de Barcelona y la que tuvo menor demanda fue Huesca."
   ]
  },
  {
   "cell_type": "code",
   "execution_count": 7,
   "metadata": {},
   "outputs": [
    {
     "data": {
      "text/plain": [
       "Text(0, 0.5, 'Demand')"
      ]
     },
     "execution_count": 7,
     "metadata": {},
     "output_type": "execute_result"
    },
    {
     "data": {
      "image/png": "[encoded data removed]",
      "text/plain": [
       "<Figure size 864x576 with 1 Axes>"
      ]
     },
     "metadata": {
      "needs_background": "light"
     },
     "output_type": "display_data"
    }
   ],
   "source": [
    "destiny.plot(kind='bar', title= \"Destination City\", figsize=(12,8), logy=True)\n",
    "plt.ylabel(\"Demand\")"
   ]
  },
  {
   "cell_type": "markdown",
   "metadata": {},
   "source": [
    "# Servicio de tren\n",
    "Podemos ver el servicio de tren más usados al momento de viajar, siendo AVE el que tiene la mayor demanda de viajes, ademas se nos detalla el tipo de dato de cada columna."
   ]
  },
  {
   "cell_type": "code",
   "execution_count": 8,
   "metadata": {},
   "outputs": [
    {
     "data": {
      "text/plain": [
       "AVE          17897536\n",
       "ALVIA         2238631\n",
       "AVANT          848705\n",
       "AV City        767137\n",
       "INTERCITY      704275\n",
       "Name: train_type, dtype: int64"
      ]
     },
     "execution_count": 8,
     "metadata": {},
     "output_type": "execute_result"
    }
   ],
   "source": [
    "train= datos[\"train_type\"].value_counts()\n",
    "train.head()"
   ]
  },
  {
   "cell_type": "markdown",
   "metadata": {},
   "source": [
    "# Diagrama de barra - servicios de tren\n",
    "Aca podemos ver de manera más detallada los servicoos con mayor demando, confirmando que AVE usos durante el servicio."
   ]
  },
  {
   "cell_type": "code",
   "execution_count": 9,
   "metadata": {},
   "outputs": [
    {
     "data": {
      "text/plain": [
       "Text(0, 0.5, 'Demand')"
      ]
     },
     "execution_count": 9,
     "metadata": {},
     "output_type": "execute_result"
    },
    {
     "data": {
      "image/png": "[encoded data removed]",
      "text/plain": [
       "<Figure size 864x576 with 1 Axes>"
      ]
     },
     "metadata": {
      "needs_background": "light"
     },
     "output_type": "display_data"
    }
   ],
   "source": [
    "datos[\"train_type\"].value_counts().plot(kind='bar', title= \"Train Service Name\", figsize=(12,8), logy=True)\n",
    "plt.ylabel(\"Demand\")"
   ]
  }
 ],
 "metadata": {
  "kernelspec": {
   "display_name": "Python 3",
   "language": "python",
   "name": "python3"
  },
  "language_info": {
   "codemirror_mode": {
    "name": "ipython",
    "version": 3
   },
   "file_extension": ".py",
   "mimetype": "text/x-python",
   "name": "python",
   "nbconvert_exporter": "python",
   "pygments_lexer": "ipython3",
   "version": "3.8.3"
  }
 },
 "nbformat": 4,
 "nbformat_minor": 4
}
